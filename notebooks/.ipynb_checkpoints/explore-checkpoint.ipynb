{
 "cells": [
  {
   "cell_type": "code",
   "execution_count": 67,
   "id": "7ea17ac7",
   "metadata": {},
   "outputs": [],
   "source": [
    "import pandas as pd\n",
    "import numpy as np\n",
    "import matplotlib.pyplot as plt\n",
    "plt.rc('axes', axisbelow=True)"
   ]
  },
  {
   "cell_type": "markdown",
   "id": "5674df22",
   "metadata": {},
   "source": [
    "# Basic Exploration"
   ]
  },
  {
   "cell_type": "code",
   "execution_count": 9,
   "id": "06679b19",
   "metadata": {},
   "outputs": [
    {
     "data": {
      "text/html": [
       "<div>\n",
       "<style scoped>\n",
       "    .dataframe tbody tr th:only-of-type {\n",
       "        vertical-align: middle;\n",
       "    }\n",
       "\n",
       "    .dataframe tbody tr th {\n",
       "        vertical-align: top;\n",
       "    }\n",
       "\n",
       "    .dataframe thead th {\n",
       "        text-align: right;\n",
       "    }\n",
       "</style>\n",
       "<table border=\"1\" class=\"dataframe\">\n",
       "  <thead>\n",
       "    <tr style=\"text-align: right;\">\n",
       "      <th></th>\n",
       "      <th>AQ1</th>\n",
       "      <th>AQ2</th>\n",
       "      <th>AQ3</th>\n",
       "      <th>AQ4</th>\n",
       "      <th>AOT1</th>\n",
       "      <th>AOT2</th>\n",
       "      <th>AT</th>\n",
       "      <th>HQ1</th>\n",
       "      <th>HQ2</th>\n",
       "      <th>HQ3</th>\n",
       "      <th>HQ4</th>\n",
       "      <th>HOT1</th>\n",
       "      <th>HOT2</th>\n",
       "      <th>HT</th>\n",
       "    </tr>\n",
       "  </thead>\n",
       "  <tbody>\n",
       "    <tr>\n",
       "      <th>count</th>\n",
       "      <td>1304.000000</td>\n",
       "      <td>1304.000000</td>\n",
       "      <td>1304.000000</td>\n",
       "      <td>1304.000000</td>\n",
       "      <td>1304.000000</td>\n",
       "      <td>1304.000000</td>\n",
       "      <td>1304.000000</td>\n",
       "      <td>1304.000000</td>\n",
       "      <td>1304.000000</td>\n",
       "      <td>1304.000000</td>\n",
       "      <td>1304.000000</td>\n",
       "      <td>1304.000000</td>\n",
       "      <td>1304.000000</td>\n",
       "      <td>1304.000000</td>\n",
       "    </tr>\n",
       "    <tr>\n",
       "      <th>mean</th>\n",
       "      <td>28.459356</td>\n",
       "      <td>28.473926</td>\n",
       "      <td>28.490031</td>\n",
       "      <td>26.944018</td>\n",
       "      <td>0.661043</td>\n",
       "      <td>0.064417</td>\n",
       "      <td>113.092791</td>\n",
       "      <td>29.378067</td>\n",
       "      <td>29.006135</td>\n",
       "      <td>29.160276</td>\n",
       "      <td>27.427914</td>\n",
       "      <td>0.693252</td>\n",
       "      <td>0.080521</td>\n",
       "      <td>115.746166</td>\n",
       "    </tr>\n",
       "    <tr>\n",
       "      <th>std</th>\n",
       "      <td>5.946541</td>\n",
       "      <td>5.849685</td>\n",
       "      <td>5.761296</td>\n",
       "      <td>5.934725</td>\n",
       "      <td>2.766450</td>\n",
       "      <td>0.773996</td>\n",
       "      <td>12.011435</td>\n",
       "      <td>5.878967</td>\n",
       "      <td>5.924438</td>\n",
       "      <td>5.999073</td>\n",
       "      <td>5.782926</td>\n",
       "      <td>2.821812</td>\n",
       "      <td>0.964666</td>\n",
       "      <td>11.945803</td>\n",
       "    </tr>\n",
       "    <tr>\n",
       "      <th>min</th>\n",
       "      <td>9.000000</td>\n",
       "      <td>11.000000</td>\n",
       "      <td>10.000000</td>\n",
       "      <td>10.000000</td>\n",
       "      <td>0.000000</td>\n",
       "      <td>0.000000</td>\n",
       "      <td>79.000000</td>\n",
       "      <td>12.000000</td>\n",
       "      <td>11.000000</td>\n",
       "      <td>10.000000</td>\n",
       "      <td>10.000000</td>\n",
       "      <td>0.000000</td>\n",
       "      <td>0.000000</td>\n",
       "      <td>80.000000</td>\n",
       "    </tr>\n",
       "    <tr>\n",
       "      <th>25%</th>\n",
       "      <td>25.000000</td>\n",
       "      <td>25.000000</td>\n",
       "      <td>24.000000</td>\n",
       "      <td>23.000000</td>\n",
       "      <td>0.000000</td>\n",
       "      <td>0.000000</td>\n",
       "      <td>105.000000</td>\n",
       "      <td>25.000000</td>\n",
       "      <td>25.000000</td>\n",
       "      <td>25.000000</td>\n",
       "      <td>23.750000</td>\n",
       "      <td>0.000000</td>\n",
       "      <td>0.000000</td>\n",
       "      <td>108.000000</td>\n",
       "    </tr>\n",
       "    <tr>\n",
       "      <th>50%</th>\n",
       "      <td>28.000000</td>\n",
       "      <td>28.000000</td>\n",
       "      <td>28.000000</td>\n",
       "      <td>27.000000</td>\n",
       "      <td>0.000000</td>\n",
       "      <td>0.000000</td>\n",
       "      <td>113.000000</td>\n",
       "      <td>29.000000</td>\n",
       "      <td>29.000000</td>\n",
       "      <td>29.000000</td>\n",
       "      <td>28.000000</td>\n",
       "      <td>0.000000</td>\n",
       "      <td>0.000000</td>\n",
       "      <td>116.000000</td>\n",
       "    </tr>\n",
       "    <tr>\n",
       "      <th>75%</th>\n",
       "      <td>32.000000</td>\n",
       "      <td>33.000000</td>\n",
       "      <td>33.000000</td>\n",
       "      <td>31.000000</td>\n",
       "      <td>0.000000</td>\n",
       "      <td>0.000000</td>\n",
       "      <td>121.000000</td>\n",
       "      <td>33.000000</td>\n",
       "      <td>33.000000</td>\n",
       "      <td>33.000000</td>\n",
       "      <td>31.000000</td>\n",
       "      <td>0.000000</td>\n",
       "      <td>0.000000</td>\n",
       "      <td>124.000000</td>\n",
       "    </tr>\n",
       "    <tr>\n",
       "      <th>max</th>\n",
       "      <td>55.000000</td>\n",
       "      <td>47.000000</td>\n",
       "      <td>51.000000</td>\n",
       "      <td>48.000000</td>\n",
       "      <td>20.000000</td>\n",
       "      <td>12.000000</td>\n",
       "      <td>176.000000</td>\n",
       "      <td>50.000000</td>\n",
       "      <td>50.000000</td>\n",
       "      <td>51.000000</td>\n",
       "      <td>49.000000</td>\n",
       "      <td>20.000000</td>\n",
       "      <td>16.000000</td>\n",
       "      <td>175.000000</td>\n",
       "    </tr>\n",
       "  </tbody>\n",
       "</table>\n",
       "</div>"
      ],
      "text/plain": [
       "               AQ1          AQ2          AQ3          AQ4         AOT1  \\\n",
       "count  1304.000000  1304.000000  1304.000000  1304.000000  1304.000000   \n",
       "mean     28.459356    28.473926    28.490031    26.944018     0.661043   \n",
       "std       5.946541     5.849685     5.761296     5.934725     2.766450   \n",
       "min       9.000000    11.000000    10.000000    10.000000     0.000000   \n",
       "25%      25.000000    25.000000    24.000000    23.000000     0.000000   \n",
       "50%      28.000000    28.000000    28.000000    27.000000     0.000000   \n",
       "75%      32.000000    33.000000    33.000000    31.000000     0.000000   \n",
       "max      55.000000    47.000000    51.000000    48.000000    20.000000   \n",
       "\n",
       "              AOT2           AT          HQ1          HQ2          HQ3  \\\n",
       "count  1304.000000  1304.000000  1304.000000  1304.000000  1304.000000   \n",
       "mean      0.064417   113.092791    29.378067    29.006135    29.160276   \n",
       "std       0.773996    12.011435     5.878967     5.924438     5.999073   \n",
       "min       0.000000    79.000000    12.000000    11.000000    10.000000   \n",
       "25%       0.000000   105.000000    25.000000    25.000000    25.000000   \n",
       "50%       0.000000   113.000000    29.000000    29.000000    29.000000   \n",
       "75%       0.000000   121.000000    33.000000    33.000000    33.000000   \n",
       "max      12.000000   176.000000    50.000000    50.000000    51.000000   \n",
       "\n",
       "               HQ4         HOT1         HOT2           HT  \n",
       "count  1304.000000  1304.000000  1304.000000  1304.000000  \n",
       "mean     27.427914     0.693252     0.080521   115.746166  \n",
       "std       5.782926     2.821812     0.964666    11.945803  \n",
       "min      10.000000     0.000000     0.000000    80.000000  \n",
       "25%      23.750000     0.000000     0.000000   108.000000  \n",
       "50%      28.000000     0.000000     0.000000   116.000000  \n",
       "75%      31.000000     0.000000     0.000000   124.000000  \n",
       "max      49.000000    20.000000    16.000000   175.000000  "
      ]
     },
     "execution_count": 9,
     "metadata": {},
     "output_type": "execute_result"
    }
   ],
   "source": [
    "db = pd.read_csv(\"../data/clean.csv\")\n",
    "db.describe()"
   ]
  },
  {
   "cell_type": "code",
   "execution_count": 8,
   "id": "b78438f7",
   "metadata": {},
   "outputs": [
    {
     "data": {
      "text/plain": [
       "array([[ 29,  34,  25, ...,   0,   0, 126],\n",
       "       [ 22,  30,  19, ...,   0,   0, 123],\n",
       "       [ 28,  27,  28, ...,   0,   0, 113],\n",
       "       ...,\n",
       "       [ 31,  19,  21, ...,   0,   0,  96],\n",
       "       [ 26,  20,  31, ...,   0,   0, 122],\n",
       "       [ 29,  23,  10, ...,   0,   0, 112]])"
      ]
     },
     "execution_count": 8,
     "metadata": {},
     "output_type": "execute_result"
    }
   ],
   "source": [
    "np_array = db.to_numpy()\n",
    "np_array"
   ]
  },
  {
   "cell_type": "markdown",
   "id": "fd0e0e73",
   "metadata": {},
   "source": [
    "## Totals Distributions"
   ]
  },
  {
   "cell_type": "code",
   "execution_count": 68,
   "id": "b8a7f494",
   "metadata": {},
   "outputs": [
    {
     "data": {
      "image/png": "[encoded data removed]",
      "text/plain": [
       "<Figure size 640x480 with 1 Axes>"
      ]
     },
     "metadata": {},
     "output_type": "display_data"
    }
   ],
   "source": [
    "totals = []\n",
    "for sample in np_array:\n",
    "    totals.append(sample[6] + sample[-1])\n",
    "    \n",
    "bins_t = [x for x in range(min(totals) - 10, max(totals) + 9, 10)]\n",
    "    \n",
    "plt.hist(totals, bins=bins_t, color=['seagreen'])\n",
    "plt.title(\"Distribution of total game scores\")\n",
    "plt.xlabel(\"Points (bins = 10)\")\n",
    "plt.ylabel(\"Games\")\n",
    "plt.grid()\n",
    "plt.show()"
   ]
  },
  {
   "cell_type": "code",
   "execution_count": 70,
   "id": "09d163b2",
   "metadata": {},
   "outputs": [
    {
     "data": {
      "image/png": "[encoded data removed]",
      "text/plain": [
       "<Figure size 1500x500 with 2 Axes>"
      ]
     },
     "metadata": {},
     "output_type": "display_data"
    }
   ],
   "source": [
    "fig, (ax1, ax2) = plt.subplots(1, 2, figsize=(15, 5))\n",
    "fig.suptitle('Away vs Home Total Distributions')\n",
    "ax1.hist(db['AT'], bins=[x for x in range(min(db['AT']), max(db['AT']), 5)], color='seagreen')\n",
    "ax1.axvline(db['AT'].mean(), color='k', linestyle='dashed')\n",
    "ax1.grid()\n",
    "ax2.hist(db['HT'], bins=[x for x in range(min(db['AT']), max(db['AT']), 5)], color='seagreen')\n",
    "ax2.axvline(db['HT'].mean(), color='k', linestyle='dashed')\n",
    "ax2.grid()"
   ]
  },
  {
   "cell_type": "code",
   "execution_count": null,
   "id": "71014ada",
   "metadata": {},
   "outputs": [],
   "source": []
  }
 ],
 "metadata": {
  "kernelspec": {
   "display_name": "Python 3 (ipykernel)",
   "language": "python",
   "name": "python3"
  },
  "language_info": {
   "codemirror_mode": {
    "name": "ipython",
    "version": 3
   },
   "file_extension": ".py",
   "mimetype": "text/x-python",
   "name": "python",
   "nbconvert_exporter": "python",
   "pygments_lexer": "ipython3",
   "version": "3.9.13"
  }
 },
 "nbformat": 4,
 "nbformat_minor": 5
}
